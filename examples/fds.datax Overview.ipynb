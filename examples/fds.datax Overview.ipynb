{
 "cells": [
  {
   "cell_type": "markdown",
   "metadata": {},
   "source": [
    "fds.datax\n",
    "--------\n",
    "\n",
    "fds.datax offers instant access to define and retrieve a time-series universe of securities that is cached into a centralized data store. Having access to a cached data store shifts the research period focused on building a universe to immediately analyzing FactSet’s core & 3rd Party data using a consistent process. \n",
    "\n",
    "\n",
    "Main Features\n",
    "--------------------\n",
    "\n",
    "   -\tGenerate a daily universe from FDS Ownership based on an ETF-Identifier _(SPY-US)_\n",
    "   -\tGenerate files for a universe that will contain FDS Symbology, security reference, pricing and corporate actions data\n",
    "   -\tMaintain and view a list of data stores available locally\n",
    "   -    Functions to support the generation of FDS symbology, security reference, pricing, and corporate actions Dataframes. \n",
    " \n",
    "   \n",
    "   \n",
    "Usage\n",
    "---------\n",
    "The FactSet team recommends users leverage the `fds.datax` library to easily create and manage caches of pre-linked FactSet content for a universe of securities defined by the user.\n",
    "\n",
    "#### Doc Strings\n",
    "Throughout the `fds.datax Overview` notebook, you can leverage python's native doc strings by hitting `Shift + Tab`.  \n",
    "\n",
    "\n",
    "Module Functionality\n",
    "------------------------------\n",
    "The `fds.datax` library has 2 core modules. Each module has a series of underlying functionality that is described in the details section of the user guide. \n",
    "\n",
    "1. **Universe**\n",
    "\n",
    "    - locate - view or delete a data caches within a given data store\n",
    "    - create – create, load or rebuild a data cache\n",
    "    - rebuild - refresh an existing data store based on previous criteria\n",
    "    - delete - remove an existing data cache\n",
    "    - read - read in data files for a specific data cache\n",
    "    \n",
    "\n",
    "2. **GetSDFdata**\n",
    "\n",
    "This method contains the underlying elements that can be used to retrieve symbology, prices, corporate actions, and fx rates. Please refer to the User Guide & API details for more information. \n",
    "\n",
    "   \n",
    "Interactive Code Sections\n",
    "-------------------------\n",
    "- [1. Setting the Working Directory](#step1)\n",
    "- [2. Setting the Working Directory](#step2)\n",
    "- [3. Locating Existing Data Caches](#step3)\n",
    "- [4. Building Your First Data Cache](#step4)\n",
    "- [5. Reading in Elements of a Data Cache](#step5)\n",
    "- [6. Rebuilding a Data Cache](#step6)\n",
    "- [7. Deleting a Data Cache](#step7)\n",
    "\n",
    "_____________________"
   ]
  },
  {
   "cell_type": "markdown",
   "metadata": {},
   "source": [
    "<a id='step1'></a>\n",
    "    \n",
    "# Getting Started\n",
    "\n",
    "## 1. Import Library\n",
    "Import the `fds.datax` Library in the first code block."
   ]
  },
  {
   "cell_type": "code",
   "execution_count": 1,
   "metadata": {},
   "outputs": [],
   "source": [
    "import fds.datax as dx\n",
    "import os"
   ]
  },
  {
   "cell_type": "markdown",
   "metadata": {},
   "source": [
    "<a id='step2'></a>\n",
    "## 2. Setting the Working Directory\n",
    "\n",
    "This package can be instantiated with a default directory path.  This path will define the location of your data store.  \n",
    "\n",
    "Let's save an instance with a new default directory.\n",
    "**Note**: If left blank, the data store defaults to the current working directory.\n",
    "\n",
    "We will use the namespace, `ds`, to represent \"data store\".  "
   ]
  },
  {
   "cell_type": "code",
   "execution_count": 2,
   "metadata": {},
   "outputs": [
    {
     "data": {
      "text/plain": [
       "'C:\\\\Users\\\\dbushnell\\\\ofia\\\\fds\\\\examples'"
      ]
     },
     "execution_count": 2,
     "metadata": {},
     "output_type": "execute_result"
    }
   ],
   "source": [
    "fds_path = os.getcwd()\n",
    "\n",
    "univ = dx.Universe(dir_path=fds_path)\n",
    "\n",
    "# Display the working directory\n",
    "univ.dir_path"
   ]
  },
  {
   "cell_type": "markdown",
   "metadata": {},
   "source": [
    "<a id='step3'></a>\n",
    "\n",
    "____________\n",
    "\n",
    "## 3. Locating Existing Data Caches\n",
    "\n",
    "Next, let's use the `ds.locate` function to examine the existing data store. If the current working directory does not have any cached data files, the message below will be displayed.\n",
    "\n",
    "    No existing Data Cache Universes exist in this Data Store. Use the fds.datax.Universe.create() function to generate a new data cache universe."
   ]
  },
  {
   "cell_type": "code",
   "execution_count": 3,
   "metadata": {},
   "outputs": [
    {
     "name": "stdout",
     "output_type": "stream",
     "text": [
      "No existing Data Cache Universes exist in this Data Store. Use the fds.datax.Universe.create() function to generate a new data cache universe.\n"
     ]
    }
   ],
   "source": [
    "univ.locate()"
   ]
  },
  {
   "cell_type": "markdown",
   "metadata": {},
   "source": [
    "<a id='step4'></a>\n",
    "\n",
    "_________________\n",
    "## 4. Building Your First Data Cache\n",
    "\n",
    "The `ds.create` function creates a series of data files that will be added to the data store within our working directory defined above. Let's use this function to build a cache for the inputs specified below."
   ]
  },
  {
   "cell_type": "code",
   "execution_count": 4,
   "metadata": {},
   "outputs": [],
   "source": [
    "# Specify a cache name\n",
    "cn = \"my_first_data_cache\"\n",
    "\n",
    "# DSN name for a connection to a MSSQL Server DB containing FDS Standard DataFeeds content.\n",
    "# `SDF` is the default as it connects to the FactSet Standard DataFeed data\n",
    "mssql_dsn = \"SDF\"\n",
    "\n",
    "# ETF ticker in a ticker-region format.\n",
    "etf_ticker = \"IWV-US\"\n",
    "\n",
    "# Currency for pricing data to be return, if local currency is desired set to \"LOCAL\"\n",
    "currency = \"USD\"\n",
    "\n",
    "# Earliest available report date in YYYY-MM-DD format\n",
    "start_date = \"2019-10-31\"\n",
    "\n",
    "# Most recent available report date to be returned in YYYY-MM-DD format\n",
    "end_date = \"2019-12-31\""
   ]
  },
  {
   "cell_type": "code",
   "execution_count": 5,
   "metadata": {},
   "outputs": [
    {
     "name": "stdout",
     "output_type": "stream",
     "text": [
      "No existing Data Cache Universes exist in this Data Store. Use the fds.datax.Universe.create() function to generate a new data cache universe.\n",
      "Downloading ETF Constituents for IWV-US from 2019-10-31 to 2019-12-31\n",
      "Downloading FDS Symbology for Universe File...\n",
      "\tFDS Symbology Downloaded.\n",
      "\tSaving FDS Universe File as C:\\Users\\dbushnell\\ofia\\fds\\examples\\fdsDataStore\\my_first_data_cache_univ.snappy\n",
      "\n",
      "Downloading Security Reference Data for Universe File...\n",
      "\tSaving Universe Metadata File as C:\\Users\\dbushnell\\ofia\\fds\\examples\\fdsDataStore\\my_first_data_cache_ref_data.snappy\n",
      "\n",
      "Downloading Pricing for Universe File...\n",
      " \tThis can take a few minutes...\n",
      "\n",
      "\n",
      "\tSaving Universe Prices File as C:\\Users\\dbushnell\\ofia\\fds\\examples\\fdsDataStore\\my_first_data_cache_corp_actions.snappy\n",
      "\n",
      "\tSaving Universe Prices File as C:\\Users\\dbushnell\\ofia\\fds\\examples\\fdsDataStore\\my_first_data_cache_prices.snappy\n",
      "\n",
      "\n",
      "FDS Cache Created.\n",
      "Cache Detail Not File Found, Creating File.\n",
      "Cache Details Saved.\n"
     ]
    },
    {
     "data": {
      "text/plain": [
       "True"
      ]
     },
     "execution_count": 5,
     "metadata": {},
     "output_type": "execute_result"
    }
   ],
   "source": [
    "# Call the `create()` function to generate a time-series universe.\n",
    "univ.create(\n",
    "    \"generate\",\n",
    "    cache_name=cn,\n",
    "    mssql_dsn=mssql_dsn,\n",
    "    etf_ticker=etf_ticker,\n",
    "    currency=currency,\n",
    "    start_date=start_date,\n",
    "    end_date=end_date,\n",
    ")"
   ]
  },
  {
   "cell_type": "markdown",
   "metadata": {},
   "source": [
    "### Checking the Available Files\n",
    "\n",
    "Once a data cache is created, use the `ds.locate` function to see the full catalog of caches in the data store. "
   ]
  },
  {
   "cell_type": "code",
   "execution_count": 6,
   "metadata": {},
   "outputs": [
    {
     "data": {
      "text/html": [
       "<div>\n",
       "<style scoped>\n",
       "    .dataframe tbody tr th:only-of-type {\n",
       "        vertical-align: middle;\n",
       "    }\n",
       "\n",
       "    .dataframe tbody tr th {\n",
       "        vertical-align: top;\n",
       "    }\n",
       "\n",
       "    .dataframe thead th {\n",
       "        text-align: right;\n",
       "    }\n",
       "</style>\n",
       "<table border=\"1\" class=\"dataframe\">\n",
       "  <thead>\n",
       "    <tr style=\"text-align: right;\">\n",
       "      <th></th>\n",
       "      <th>Source</th>\n",
       "      <th>Cache Location</th>\n",
       "      <th>MSSQL DSN</th>\n",
       "      <th>ETF Ticker</th>\n",
       "      <th>Currency</th>\n",
       "      <th>Start Date</th>\n",
       "      <th>End Date</th>\n",
       "      <th>Last Update Date</th>\n",
       "    </tr>\n",
       "    <tr>\n",
       "      <th>Cache Name</th>\n",
       "      <th></th>\n",
       "      <th></th>\n",
       "      <th></th>\n",
       "      <th></th>\n",
       "      <th></th>\n",
       "      <th></th>\n",
       "      <th></th>\n",
       "      <th></th>\n",
       "    </tr>\n",
       "  </thead>\n",
       "  <tbody>\n",
       "    <tr>\n",
       "      <th>my_first_data_cache</th>\n",
       "      <td>FDS Ownership</td>\n",
       "      <td>C:\\Users\\dbushnell\\ofia\\fds\\examples\\fdsDataStore</td>\n",
       "      <td>SDF</td>\n",
       "      <td>IWV-US</td>\n",
       "      <td>USD</td>\n",
       "      <td>2019-10-31</td>\n",
       "      <td>2019-12-31</td>\n",
       "      <td>2020-08-21 16:36:07.670239</td>\n",
       "    </tr>\n",
       "  </tbody>\n",
       "</table>\n",
       "</div>"
      ],
      "text/plain": [
       "                            Source  \\\n",
       "Cache Name                           \n",
       "my_first_data_cache  FDS Ownership   \n",
       "\n",
       "                                                        Cache Location  \\\n",
       "Cache Name                                                               \n",
       "my_first_data_cache  C:\\Users\\dbushnell\\ofia\\fds\\examples\\fdsDataStore   \n",
       "\n",
       "                    MSSQL DSN ETF Ticker Currency Start Date   End Date  \\\n",
       "Cache Name                                                                \n",
       "my_first_data_cache       SDF     IWV-US      USD 2019-10-31 2019-12-31   \n",
       "\n",
       "                              Last Update Date  \n",
       "Cache Name                                      \n",
       "my_first_data_cache 2020-08-21 16:36:07.670239  "
      ]
     },
     "execution_count": 6,
     "metadata": {},
     "output_type": "execute_result"
    }
   ],
   "source": [
    "univ.locate()"
   ]
  },
  {
   "cell_type": "markdown",
   "metadata": {},
   "source": [
    "<a id='step5'></a>\n",
    "_________________\n",
    "## 5. Reading in Elements of a Data Cache\n",
    "\n",
    "The `ds.read` function will load data files specific to the universe and cache name that is specified. Let's read in the data that was created above.\n",
    "\n",
    "The `option` parameter accepts one of the following values:\n",
    "- `universe` – load time series symbology information for a data cache universe\n",
    "- `sec ref` – load security reference data for a data cache universe\n",
    "- `prices` – load pricing data for a data cache universe. Choose unadjusted, split, or split & spin-off data\n",
    "- `corp actions` – load corporate action factors for a data cache universe"
   ]
  },
  {
   "cell_type": "markdown",
   "metadata": {},
   "source": [
    "### Load Symbology (Time Series) "
   ]
  },
  {
   "cell_type": "code",
   "execution_count": 7,
   "metadata": {
    "scrolled": false
   },
   "outputs": [
    {
     "name": "stdout",
     "output_type": "stream",
     "text": [
      "Cache Details:\n",
      "Source                                                  FDS Ownership\n",
      "Cache Location      C:\\Users\\dbushnell\\ofia\\fds\\examples\\fdsDataStore\n",
      "MSSQL DSN                                                         SDF\n",
      "ETF Ticker                                                     IWV-US\n",
      "Currency                                                          USD\n",
      "Start Date                                        2019-10-31 00:00:00\n",
      "End Date                                          2019-12-31 00:00:00\n",
      "Last Update Date                           2020-08-21 16:36:07.670239\n",
      "Name: my_first_data_cache, dtype: object\n",
      "\n",
      "\n"
     ]
    },
    {
     "data": {
      "text/html": [
       "<div>\n",
       "<style scoped>\n",
       "    .dataframe tbody tr th:only-of-type {\n",
       "        vertical-align: middle;\n",
       "    }\n",
       "\n",
       "    .dataframe tbody tr th {\n",
       "        vertical-align: top;\n",
       "    }\n",
       "\n",
       "    .dataframe thead th {\n",
       "        text-align: right;\n",
       "    }\n",
       "</style>\n",
       "<table border=\"1\" class=\"dataframe\">\n",
       "  <thead>\n",
       "    <tr style=\"text-align: right;\">\n",
       "      <th></th>\n",
       "      <th>ref_id</th>\n",
       "      <th>fsym_primary_listing_id</th>\n",
       "      <th>fsym_primary_equity_id</th>\n",
       "      <th>date</th>\n",
       "      <th>proper_name</th>\n",
       "      <th>factset_entity_id</th>\n",
       "    </tr>\n",
       "  </thead>\n",
       "  <tbody>\n",
       "    <tr>\n",
       "      <th>0</th>\n",
       "      <td>B0HDHL-S</td>\n",
       "      <td>DKTB77-R</td>\n",
       "      <td>B0HDHL-S</td>\n",
       "      <td>2019-10-31</td>\n",
       "      <td>Targa Resources Corp.</td>\n",
       "      <td>00904S-E</td>\n",
       "    </tr>\n",
       "    <tr>\n",
       "      <th>1</th>\n",
       "      <td>B0HDHL-S</td>\n",
       "      <td>DKTB77-R</td>\n",
       "      <td>B0HDHL-S</td>\n",
       "      <td>2019-11-01</td>\n",
       "      <td>Targa Resources Corp.</td>\n",
       "      <td>00904S-E</td>\n",
       "    </tr>\n",
       "    <tr>\n",
       "      <th>2</th>\n",
       "      <td>B0HDHL-S</td>\n",
       "      <td>DKTB77-R</td>\n",
       "      <td>B0HDHL-S</td>\n",
       "      <td>2019-11-02</td>\n",
       "      <td>Targa Resources Corp.</td>\n",
       "      <td>00904S-E</td>\n",
       "    </tr>\n",
       "    <tr>\n",
       "      <th>3</th>\n",
       "      <td>B0HDHL-S</td>\n",
       "      <td>DKTB77-R</td>\n",
       "      <td>B0HDHL-S</td>\n",
       "      <td>2019-11-03</td>\n",
       "      <td>Targa Resources Corp.</td>\n",
       "      <td>00904S-E</td>\n",
       "    </tr>\n",
       "    <tr>\n",
       "      <th>4</th>\n",
       "      <td>B0HDHL-S</td>\n",
       "      <td>DKTB77-R</td>\n",
       "      <td>B0HDHL-S</td>\n",
       "      <td>2019-11-04</td>\n",
       "      <td>Targa Resources Corp.</td>\n",
       "      <td>00904S-E</td>\n",
       "    </tr>\n",
       "  </tbody>\n",
       "</table>\n",
       "</div>"
      ],
      "text/plain": [
       "     ref_id fsym_primary_listing_id fsym_primary_equity_id       date  \\\n",
       "0  B0HDHL-S                DKTB77-R               B0HDHL-S 2019-10-31   \n",
       "1  B0HDHL-S                DKTB77-R               B0HDHL-S 2019-11-01   \n",
       "2  B0HDHL-S                DKTB77-R               B0HDHL-S 2019-11-02   \n",
       "3  B0HDHL-S                DKTB77-R               B0HDHL-S 2019-11-03   \n",
       "4  B0HDHL-S                DKTB77-R               B0HDHL-S 2019-11-04   \n",
       "\n",
       "             proper_name factset_entity_id  \n",
       "0  Targa Resources Corp.          00904S-E  \n",
       "1  Targa Resources Corp.          00904S-E  \n",
       "2  Targa Resources Corp.          00904S-E  \n",
       "3  Targa Resources Corp.          00904S-E  \n",
       "4  Targa Resources Corp.          00904S-E  "
      ]
     },
     "execution_count": 7,
     "metadata": {},
     "output_type": "execute_result"
    }
   ],
   "source": [
    "univ.read(option=\"universe\", cache_name=\"my_first_data_cache\").head()"
   ]
  },
  {
   "cell_type": "markdown",
   "metadata": {},
   "source": [
    "### Load Sec Reference Data "
   ]
  },
  {
   "cell_type": "code",
   "execution_count": 8,
   "metadata": {},
   "outputs": [
    {
     "name": "stdout",
     "output_type": "stream",
     "text": [
      "Cache Details:\n",
      "Source                                                  FDS Ownership\n",
      "Cache Location      C:\\Users\\dbushnell\\ofia\\fds\\examples\\fdsDataStore\n",
      "MSSQL DSN                                                         SDF\n",
      "ETF Ticker                                                     IWV-US\n",
      "Currency                                                          USD\n",
      "Start Date                                        2019-10-31 00:00:00\n",
      "End Date                                          2019-12-31 00:00:00\n",
      "Last Update Date                           2020-08-21 16:36:07.670239\n",
      "Name: my_first_data_cache, dtype: object\n",
      "\n",
      "\n"
     ]
    },
    {
     "data": {
      "text/html": [
       "<div>\n",
       "<style scoped>\n",
       "    .dataframe tbody tr th:only-of-type {\n",
       "        vertical-align: middle;\n",
       "    }\n",
       "\n",
       "    .dataframe tbody tr th {\n",
       "        vertical-align: top;\n",
       "    }\n",
       "\n",
       "    .dataframe thead th {\n",
       "        text-align: right;\n",
       "    }\n",
       "</style>\n",
       "<table border=\"1\" class=\"dataframe\">\n",
       "  <thead>\n",
       "    <tr style=\"text-align: right;\">\n",
       "      <th></th>\n",
       "      <th>ref_id</th>\n",
       "      <th>factset_entity_id</th>\n",
       "      <th>country</th>\n",
       "      <th>region</th>\n",
       "      <th>rbics_l1</th>\n",
       "      <th>rbics_l2</th>\n",
       "      <th>rbics_l3</th>\n",
       "      <th>rbics_l4</th>\n",
       "      <th>rbics_l1_id</th>\n",
       "      <th>rbics_l2_id</th>\n",
       "      <th>rbics_l3_id</th>\n",
       "      <th>rbics_l4_id</th>\n",
       "    </tr>\n",
       "  </thead>\n",
       "  <tbody>\n",
       "    <tr>\n",
       "      <th>0</th>\n",
       "      <td>KCCH5Y-S</td>\n",
       "      <td>003ZXF-E</td>\n",
       "      <td>United States</td>\n",
       "      <td>North America</td>\n",
       "      <td>Consumer Cyclicals</td>\n",
       "      <td>Consumer Goods</td>\n",
       "      <td>Apparel and Accessory Products</td>\n",
       "      <td>Apparel and Footwear Production</td>\n",
       "      <td>20</td>\n",
       "      <td>2010</td>\n",
       "      <td>201010</td>\n",
       "      <td>20101015</td>\n",
       "    </tr>\n",
       "    <tr>\n",
       "      <th>1</th>\n",
       "      <td>FT89GR-S</td>\n",
       "      <td>001WFT-E</td>\n",
       "      <td>United States</td>\n",
       "      <td>North America</td>\n",
       "      <td>Consumer Cyclicals</td>\n",
       "      <td>Consumer Goods</td>\n",
       "      <td>Apparel and Accessory Products</td>\n",
       "      <td>Apparel and Footwear Production</td>\n",
       "      <td>20</td>\n",
       "      <td>2010</td>\n",
       "      <td>201010</td>\n",
       "      <td>20101015</td>\n",
       "    </tr>\n",
       "    <tr>\n",
       "      <th>2</th>\n",
       "      <td>HLVTM7-S</td>\n",
       "      <td>000T05-E</td>\n",
       "      <td>United States</td>\n",
       "      <td>North America</td>\n",
       "      <td>Consumer Cyclicals</td>\n",
       "      <td>Consumer Goods</td>\n",
       "      <td>Apparel and Accessory Products</td>\n",
       "      <td>Apparel and Footwear Production</td>\n",
       "      <td>20</td>\n",
       "      <td>2010</td>\n",
       "      <td>201010</td>\n",
       "      <td>20101015</td>\n",
       "    </tr>\n",
       "    <tr>\n",
       "      <th>3</th>\n",
       "      <td>JLCX03-S</td>\n",
       "      <td>000KV4-E</td>\n",
       "      <td>United States</td>\n",
       "      <td>North America</td>\n",
       "      <td>Consumer Cyclicals</td>\n",
       "      <td>Consumer Goods</td>\n",
       "      <td>Apparel and Accessory Products</td>\n",
       "      <td>Apparel and Footwear Production</td>\n",
       "      <td>20</td>\n",
       "      <td>2010</td>\n",
       "      <td>201010</td>\n",
       "      <td>20101015</td>\n",
       "    </tr>\n",
       "    <tr>\n",
       "      <th>4</th>\n",
       "      <td>KFHK5Y-S</td>\n",
       "      <td>0014S9-E</td>\n",
       "      <td>United States</td>\n",
       "      <td>North America</td>\n",
       "      <td>Consumer Cyclicals</td>\n",
       "      <td>Consumer Goods</td>\n",
       "      <td>Apparel and Accessory Products</td>\n",
       "      <td>Apparel and Footwear Production</td>\n",
       "      <td>20</td>\n",
       "      <td>2010</td>\n",
       "      <td>201010</td>\n",
       "      <td>20101015</td>\n",
       "    </tr>\n",
       "  </tbody>\n",
       "</table>\n",
       "</div>"
      ],
      "text/plain": [
       "     ref_id factset_entity_id        country         region  \\\n",
       "0  KCCH5Y-S          003ZXF-E  United States  North America   \n",
       "1  FT89GR-S          001WFT-E  United States  North America   \n",
       "2  HLVTM7-S          000T05-E  United States  North America   \n",
       "3  JLCX03-S          000KV4-E  United States  North America   \n",
       "4  KFHK5Y-S          0014S9-E  United States  North America   \n",
       "\n",
       "             rbics_l1        rbics_l2                        rbics_l3  \\\n",
       "0  Consumer Cyclicals  Consumer Goods  Apparel and Accessory Products   \n",
       "1  Consumer Cyclicals  Consumer Goods  Apparel and Accessory Products   \n",
       "2  Consumer Cyclicals  Consumer Goods  Apparel and Accessory Products   \n",
       "3  Consumer Cyclicals  Consumer Goods  Apparel and Accessory Products   \n",
       "4  Consumer Cyclicals  Consumer Goods  Apparel and Accessory Products   \n",
       "\n",
       "                          rbics_l4 rbics_l1_id rbics_l2_id rbics_l3_id  \\\n",
       "0  Apparel and Footwear Production          20        2010      201010   \n",
       "1  Apparel and Footwear Production          20        2010      201010   \n",
       "2  Apparel and Footwear Production          20        2010      201010   \n",
       "3  Apparel and Footwear Production          20        2010      201010   \n",
       "4  Apparel and Footwear Production          20        2010      201010   \n",
       "\n",
       "  rbics_l4_id  \n",
       "0    20101015  \n",
       "1    20101015  \n",
       "2    20101015  \n",
       "3    20101015  \n",
       "4    20101015  "
      ]
     },
     "execution_count": 8,
     "metadata": {},
     "output_type": "execute_result"
    }
   ],
   "source": [
    "univ.read(option=\"sec ref\", cache_name=\"my_first_data_cache\").head()"
   ]
  },
  {
   "cell_type": "markdown",
   "metadata": {},
   "source": [
    "### Load Pricing Data \n",
    "\n",
    "Pricing is unique as it has an additional option besides the **cache_name.**  The user can specific the type of adjustments to be applied to the data using the `adj` parameter:\n",
    "\n",
    "* 0 = Unadjusted Data\n",
    "* 1 = Split Adjusted Data\n",
    "* 2 = Split and Spin-off Adjusted Data"
   ]
  },
  {
   "cell_type": "code",
   "execution_count": 9,
   "metadata": {
    "scrolled": false
   },
   "outputs": [
    {
     "name": "stdout",
     "output_type": "stream",
     "text": [
      "Cache Details:\n",
      "Source                                                  FDS Ownership\n",
      "Cache Location      C:\\Users\\dbushnell\\ofia\\fds\\examples\\fdsDataStore\n",
      "MSSQL DSN                                                         SDF\n",
      "ETF Ticker                                                     IWV-US\n",
      "Currency                                                          USD\n",
      "Start Date                                        2019-10-31 00:00:00\n",
      "End Date                                          2019-12-31 00:00:00\n",
      "Last Update Date                           2020-08-21 16:36:07.670239\n",
      "Name: my_first_data_cache, dtype: object\n",
      "\n",
      "\n"
     ]
    },
    {
     "data": {
      "text/html": [
       "<div>\n",
       "<style scoped>\n",
       "    .dataframe tbody tr th:only-of-type {\n",
       "        vertical-align: middle;\n",
       "    }\n",
       "\n",
       "    .dataframe tbody tr th {\n",
       "        vertical-align: top;\n",
       "    }\n",
       "\n",
       "    .dataframe thead th {\n",
       "        text-align: right;\n",
       "    }\n",
       "</style>\n",
       "<table border=\"1\" class=\"dataframe\">\n",
       "  <thead>\n",
       "    <tr style=\"text-align: right;\">\n",
       "      <th></th>\n",
       "      <th>ref_id</th>\n",
       "      <th>fsym_id</th>\n",
       "      <th>price_date</th>\n",
       "      <th>currency</th>\n",
       "      <th>market_value</th>\n",
       "      <th>one_day_total_return</th>\n",
       "      <th>volume</th>\n",
       "      <th>shares_outstanding</th>\n",
       "      <th>price_close</th>\n",
       "      <th>price_high</th>\n",
       "      <th>price_low</th>\n",
       "      <th>price_open</th>\n",
       "    </tr>\n",
       "  </thead>\n",
       "  <tbody>\n",
       "    <tr>\n",
       "      <th>0</th>\n",
       "      <td>S8NXC9-S</td>\n",
       "      <td>B04XY5-R</td>\n",
       "      <td>2019-10-31</td>\n",
       "      <td>USD</td>\n",
       "      <td>527886.58</td>\n",
       "      <td>0.121951</td>\n",
       "      <td>172.651</td>\n",
       "      <td>64298.0</td>\n",
       "      <td>8.21</td>\n",
       "      <td>8.22</td>\n",
       "      <td>7.9300</td>\n",
       "      <td>8.18</td>\n",
       "    </tr>\n",
       "    <tr>\n",
       "      <th>1</th>\n",
       "      <td>S8NXC9-S</td>\n",
       "      <td>B04XY5-R</td>\n",
       "      <td>2019-11-01</td>\n",
       "      <td>USD</td>\n",
       "      <td>540746.18</td>\n",
       "      <td>2.436050</td>\n",
       "      <td>200.432</td>\n",
       "      <td>64298.0</td>\n",
       "      <td>8.41</td>\n",
       "      <td>8.53</td>\n",
       "      <td>8.1800</td>\n",
       "      <td>8.25</td>\n",
       "    </tr>\n",
       "    <tr>\n",
       "      <th>2</th>\n",
       "      <td>S8NXC9-S</td>\n",
       "      <td>B04XY5-R</td>\n",
       "      <td>2019-11-04</td>\n",
       "      <td>USD</td>\n",
       "      <td>547818.96</td>\n",
       "      <td>1.307980</td>\n",
       "      <td>325.054</td>\n",
       "      <td>64298.0</td>\n",
       "      <td>8.52</td>\n",
       "      <td>8.79</td>\n",
       "      <td>8.4100</td>\n",
       "      <td>8.50</td>\n",
       "    </tr>\n",
       "    <tr>\n",
       "      <th>3</th>\n",
       "      <td>S8NXC9-S</td>\n",
       "      <td>B04XY5-R</td>\n",
       "      <td>2019-11-05</td>\n",
       "      <td>USD</td>\n",
       "      <td>704063.10</td>\n",
       "      <td>28.521100</td>\n",
       "      <td>1892.764</td>\n",
       "      <td>64298.0</td>\n",
       "      <td>10.95</td>\n",
       "      <td>11.10</td>\n",
       "      <td>8.7800</td>\n",
       "      <td>8.80</td>\n",
       "    </tr>\n",
       "    <tr>\n",
       "      <th>4</th>\n",
       "      <td>S8NXC9-S</td>\n",
       "      <td>B04XY5-R</td>\n",
       "      <td>2019-11-06</td>\n",
       "      <td>USD</td>\n",
       "      <td>727210.38</td>\n",
       "      <td>3.287670</td>\n",
       "      <td>1339.985</td>\n",
       "      <td>64298.0</td>\n",
       "      <td>11.31</td>\n",
       "      <td>11.41</td>\n",
       "      <td>10.7907</td>\n",
       "      <td>10.94</td>\n",
       "    </tr>\n",
       "  </tbody>\n",
       "</table>\n",
       "</div>"
      ],
      "text/plain": [
       "     ref_id   fsym_id price_date currency  market_value  one_day_total_return  \\\n",
       "0  S8NXC9-S  B04XY5-R 2019-10-31      USD     527886.58              0.121951   \n",
       "1  S8NXC9-S  B04XY5-R 2019-11-01      USD     540746.18              2.436050   \n",
       "2  S8NXC9-S  B04XY5-R 2019-11-04      USD     547818.96              1.307980   \n",
       "3  S8NXC9-S  B04XY5-R 2019-11-05      USD     704063.10             28.521100   \n",
       "4  S8NXC9-S  B04XY5-R 2019-11-06      USD     727210.38              3.287670   \n",
       "\n",
       "     volume  shares_outstanding  price_close  price_high  price_low  \\\n",
       "0   172.651             64298.0         8.21        8.22     7.9300   \n",
       "1   200.432             64298.0         8.41        8.53     8.1800   \n",
       "2   325.054             64298.0         8.52        8.79     8.4100   \n",
       "3  1892.764             64298.0        10.95       11.10     8.7800   \n",
       "4  1339.985             64298.0        11.31       11.41    10.7907   \n",
       "\n",
       "   price_open  \n",
       "0        8.18  \n",
       "1        8.25  \n",
       "2        8.50  \n",
       "3        8.80  \n",
       "4       10.94  "
      ]
     },
     "execution_count": 9,
     "metadata": {},
     "output_type": "execute_result"
    }
   ],
   "source": [
    "univ.read(option=\"Prices\", cache_name=\"my_first_data_cache\", adj=2).head()"
   ]
  },
  {
   "cell_type": "markdown",
   "metadata": {},
   "source": [
    "### Corporate Action Adjustment Factors"
   ]
  },
  {
   "cell_type": "code",
   "execution_count": 10,
   "metadata": {},
   "outputs": [
    {
     "name": "stdout",
     "output_type": "stream",
     "text": [
      "Cache Details:\n",
      "Source                                                  FDS Ownership\n",
      "Cache Location      C:\\Users\\dbushnell\\ofia\\fds\\examples\\fdsDataStore\n",
      "MSSQL DSN                                                         SDF\n",
      "ETF Ticker                                                     IWV-US\n",
      "Currency                                                          USD\n",
      "Start Date                                        2019-10-31 00:00:00\n",
      "End Date                                          2019-12-31 00:00:00\n",
      "Last Update Date                           2020-08-21 16:36:07.670239\n",
      "Name: my_first_data_cache, dtype: object\n",
      "\n",
      "\n"
     ]
    },
    {
     "data": {
      "text/html": [
       "<div>\n",
       "<style scoped>\n",
       "    .dataframe tbody tr th:only-of-type {\n",
       "        vertical-align: middle;\n",
       "    }\n",
       "\n",
       "    .dataframe tbody tr th {\n",
       "        vertical-align: top;\n",
       "    }\n",
       "\n",
       "    .dataframe thead th {\n",
       "        text-align: right;\n",
       "    }\n",
       "</style>\n",
       "<table border=\"1\" class=\"dataframe\">\n",
       "  <thead>\n",
       "    <tr style=\"text-align: right;\">\n",
       "      <th></th>\n",
       "      <th>ref_id</th>\n",
       "      <th>fsym_id</th>\n",
       "      <th>price_date</th>\n",
       "      <th>cum_split_factor</th>\n",
       "      <th>cum_spin_factor</th>\n",
       "    </tr>\n",
       "  </thead>\n",
       "  <tbody>\n",
       "    <tr>\n",
       "      <th>0</th>\n",
       "      <td>S39RTQ-S</td>\n",
       "      <td>B01HWF-R</td>\n",
       "      <td>2020-04-23</td>\n",
       "      <td>1.0</td>\n",
       "      <td>0.97628</td>\n",
       "    </tr>\n",
       "    <tr>\n",
       "      <th>1</th>\n",
       "      <td>SZBKZ7-S</td>\n",
       "      <td>BCY2BV-R</td>\n",
       "      <td>2020-07-27</td>\n",
       "      <td>5.0</td>\n",
       "      <td>1.00000</td>\n",
       "    </tr>\n",
       "    <tr>\n",
       "      <th>2</th>\n",
       "      <td>Q1PKCV-S</td>\n",
       "      <td>FLDWBD-R</td>\n",
       "      <td>2020-04-22</td>\n",
       "      <td>50.0</td>\n",
       "      <td>1.00000</td>\n",
       "    </tr>\n",
       "    <tr>\n",
       "      <th>3</th>\n",
       "      <td>R6XL7S-S</td>\n",
       "      <td>H8JXH0-R</td>\n",
       "      <td>2020-04-14</td>\n",
       "      <td>200.0</td>\n",
       "      <td>1.00000</td>\n",
       "    </tr>\n",
       "    <tr>\n",
       "      <th>4</th>\n",
       "      <td>QGD5CJ-S</td>\n",
       "      <td>GJJJF1-R</td>\n",
       "      <td>2020-04-14</td>\n",
       "      <td>1.0</td>\n",
       "      <td>1.00000</td>\n",
       "    </tr>\n",
       "  </tbody>\n",
       "</table>\n",
       "</div>"
      ],
      "text/plain": [
       "     ref_id   fsym_id price_date  cum_split_factor  cum_spin_factor\n",
       "0  S39RTQ-S  B01HWF-R 2020-04-23               1.0          0.97628\n",
       "1  SZBKZ7-S  BCY2BV-R 2020-07-27               5.0          1.00000\n",
       "2  Q1PKCV-S  FLDWBD-R 2020-04-22              50.0          1.00000\n",
       "3  R6XL7S-S  H8JXH0-R 2020-04-14             200.0          1.00000\n",
       "4  QGD5CJ-S  GJJJF1-R 2020-04-14               1.0          1.00000"
      ]
     },
     "execution_count": 10,
     "metadata": {},
     "output_type": "execute_result"
    }
   ],
   "source": [
    "univ.read(option=\"Corp Actions\", cache_name=\"my_first_data_cache\").head()"
   ]
  },
  {
   "cell_type": "markdown",
   "metadata": {},
   "source": [
    "<a id='step6'></a>\n",
    "## 6. Rebuilding a Data Cache\n",
    "\n",
    "To rebuild an existing data cache `ds.rebuild` can be used.  This will trigger a refresh of the content based on the original inputs found within `ds.locate` accounting for corporate actions since the last rund date.\n",
    "\n"
   ]
  },
  {
   "cell_type": "code",
   "execution_count": 11,
   "metadata": {},
   "outputs": [
    {
     "name": "stdout",
     "output_type": "stream",
     "text": [
      "Downloading FDS Symbology for Universe File...\n",
      "\tFDS Symbology Downloaded.\n",
      "\tSaving FDS Universe File as C:\\Users\\dbushnell\\ofia\\fds\\examples\\fdsDataStore\\my_first_data_cache_univ.snappy\n",
      "\n",
      "Downloading Security Reference Data for Universe File...\n",
      "\tSaving Universe Metadata File as C:\\Users\\dbushnell\\ofia\\fds\\examples\\fdsDataStore\\my_first_data_cache_ref_data.snappy\n",
      "\n",
      "Downloading Pricing for Universe File...\n",
      " \tThis can take a few minutes...\n",
      "\n",
      "\n",
      "\tSaving Universe Prices File as C:\\Users\\dbushnell\\ofia\\fds\\examples\\fdsDataStore\\my_first_data_cache_corp_actions.snappy\n",
      "\n",
      "\tSaving Universe Prices File as C:\\Users\\dbushnell\\ofia\\fds\\examples\\fdsDataStore\\my_first_data_cache_prices.snappy\n",
      "\n",
      "\n",
      "FDS Cache Created.\n",
      "Cache Detail File Found.\n",
      "Cache Details Saved.\n",
      "Cache Rebuilt.\n"
     ]
    },
    {
     "data": {
      "text/plain": [
       "True"
      ]
     },
     "execution_count": 11,
     "metadata": {},
     "output_type": "execute_result"
    }
   ],
   "source": [
    "univ.rebuild(cache_name=\"my_first_data_cache\")"
   ]
  },
  {
   "cell_type": "markdown",
   "metadata": {},
   "source": [
    "<a id='step7'></a>\n",
    "## 7. Deleting a Data Cache\n",
    "\n",
    "Using `ds.delete` will remove the files associated with the data cache from the given data store. Let's first run the `ds.locate()` function to view an available cache. Then call the `ds.delete()` function to remove the cache from the Data Store. "
   ]
  },
  {
   "cell_type": "code",
   "execution_count": 12,
   "metadata": {},
   "outputs": [
    {
     "data": {
      "text/html": [
       "<div>\n",
       "<style scoped>\n",
       "    .dataframe tbody tr th:only-of-type {\n",
       "        vertical-align: middle;\n",
       "    }\n",
       "\n",
       "    .dataframe tbody tr th {\n",
       "        vertical-align: top;\n",
       "    }\n",
       "\n",
       "    .dataframe thead th {\n",
       "        text-align: right;\n",
       "    }\n",
       "</style>\n",
       "<table border=\"1\" class=\"dataframe\">\n",
       "  <thead>\n",
       "    <tr style=\"text-align: right;\">\n",
       "      <th></th>\n",
       "      <th>Source</th>\n",
       "      <th>Cache Location</th>\n",
       "      <th>MSSQL DSN</th>\n",
       "      <th>ETF Ticker</th>\n",
       "      <th>Currency</th>\n",
       "      <th>Start Date</th>\n",
       "      <th>End Date</th>\n",
       "      <th>Last Update Date</th>\n",
       "    </tr>\n",
       "    <tr>\n",
       "      <th>Cache Name</th>\n",
       "      <th></th>\n",
       "      <th></th>\n",
       "      <th></th>\n",
       "      <th></th>\n",
       "      <th></th>\n",
       "      <th></th>\n",
       "      <th></th>\n",
       "      <th></th>\n",
       "    </tr>\n",
       "  </thead>\n",
       "  <tbody>\n",
       "    <tr>\n",
       "      <th>my_first_data_cache</th>\n",
       "      <td>FDS Ownership</td>\n",
       "      <td>C:\\Users\\dbushnell\\ofia\\fds\\examples\\fdsDataStore</td>\n",
       "      <td>SDF</td>\n",
       "      <td>IWV-US</td>\n",
       "      <td>USD</td>\n",
       "      <td>2019-10-31</td>\n",
       "      <td>2019-12-31</td>\n",
       "      <td>2020-08-21 16:38:12.185014016</td>\n",
       "    </tr>\n",
       "  </tbody>\n",
       "</table>\n",
       "</div>"
      ],
      "text/plain": [
       "                            Source  \\\n",
       "Cache Name                           \n",
       "my_first_data_cache  FDS Ownership   \n",
       "\n",
       "                                                        Cache Location  \\\n",
       "Cache Name                                                               \n",
       "my_first_data_cache  C:\\Users\\dbushnell\\ofia\\fds\\examples\\fdsDataStore   \n",
       "\n",
       "                    MSSQL DSN ETF Ticker Currency Start Date   End Date  \\\n",
       "Cache Name                                                                \n",
       "my_first_data_cache       SDF     IWV-US      USD 2019-10-31 2019-12-31   \n",
       "\n",
       "                                 Last Update Date  \n",
       "Cache Name                                         \n",
       "my_first_data_cache 2020-08-21 16:38:12.185014016  "
      ]
     },
     "execution_count": 12,
     "metadata": {},
     "output_type": "execute_result"
    }
   ],
   "source": [
    "univ.locate()"
   ]
  },
  {
   "cell_type": "code",
   "execution_count": 13,
   "metadata": {
    "scrolled": true
   },
   "outputs": [
    {
     "name": "stdout",
     "output_type": "stream",
     "text": [
      "Cache Deleted.\n"
     ]
    }
   ],
   "source": [
    "univ.delete(cache_name=\"my_first_data_cache\")"
   ]
  },
  {
   "cell_type": "code",
   "execution_count": 14,
   "metadata": {},
   "outputs": [
    {
     "name": "stdout",
     "output_type": "stream",
     "text": [
      "No existing Data Cache Universes exist in this Data Store. Use the fds.datax.Universe.create() function to generate a new data cache universe.\n"
     ]
    }
   ],
   "source": [
    "univ.locate()"
   ]
  }
 ],
 "metadata": {
  "kernelspec": {
   "display_name": "Python 3",
   "language": "python",
   "name": "python3"
  },
  "language_info": {
   "codemirror_mode": {
    "name": "ipython",
    "version": 3
   },
   "file_extension": ".py",
   "mimetype": "text/x-python",
   "name": "python",
   "nbconvert_exporter": "python",
   "pygments_lexer": "ipython3",
   "version": "3.6.5"
  }
 },
 "nbformat": 4,
 "nbformat_minor": 2
}
